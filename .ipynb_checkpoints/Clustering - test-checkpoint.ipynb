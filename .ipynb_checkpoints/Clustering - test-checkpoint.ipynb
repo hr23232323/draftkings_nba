{
 "cells": [
  {
   "cell_type": "code",
   "execution_count": 13,
   "metadata": {},
   "outputs": [],
   "source": [
    "# Clustering Analysis test for Draftkings Fantasy NBA League"
   ]
  },
  {
   "cell_type": "code",
   "execution_count": 2,
   "metadata": {},
   "outputs": [],
   "source": [
    "import pandas as pd\n",
    "import numpy as np\n",
    "import matplotlib.pyplot as plt"
   ]
  },
  {
   "cell_type": "code",
   "execution_count": 3,
   "metadata": {},
   "outputs": [
    {
     "data": {
      "text/html": [
       "<div>\n",
       "<style scoped>\n",
       "    .dataframe tbody tr th:only-of-type {\n",
       "        vertical-align: middle;\n",
       "    }\n",
       "\n",
       "    .dataframe tbody tr th {\n",
       "        vertical-align: top;\n",
       "    }\n",
       "\n",
       "    .dataframe thead th {\n",
       "        text-align: right;\n",
       "    }\n",
       "</style>\n",
       "<table border=\"1\" class=\"dataframe\">\n",
       "  <thead>\n",
       "    <tr style=\"text-align: right;\">\n",
       "      <th></th>\n",
       "      <th>Position</th>\n",
       "      <th>Name + ID</th>\n",
       "      <th>Name</th>\n",
       "      <th>ID</th>\n",
       "      <th>Roster Position</th>\n",
       "      <th>Salary</th>\n",
       "      <th>Game Info</th>\n",
       "      <th>TeamAbbrev</th>\n",
       "      <th>AvgPointsPerGame</th>\n",
       "    </tr>\n",
       "  </thead>\n",
       "  <tbody>\n",
       "    <tr>\n",
       "      <th>0</th>\n",
       "      <td>PG/SF</td>\n",
       "      <td>Luka Doncic (15235137)</td>\n",
       "      <td>Luka Doncic</td>\n",
       "      <td>15235137</td>\n",
       "      <td>PG/SF/F/G/UTIL</td>\n",
       "      <td>11200</td>\n",
       "      <td>LAC@DAL 08/30/2020 03:30PM ET</td>\n",
       "      <td>DAL</td>\n",
       "      <td>57.49</td>\n",
       "    </tr>\n",
       "    <tr>\n",
       "      <th>1</th>\n",
       "      <td>SF</td>\n",
       "      <td>Kawhi Leonard (15235142)</td>\n",
       "      <td>Kawhi Leonard</td>\n",
       "      <td>15235142</td>\n",
       "      <td>SF/F/UTIL</td>\n",
       "      <td>10100</td>\n",
       "      <td>LAC@DAL 08/30/2020 03:30PM ET</td>\n",
       "      <td>LAC</td>\n",
       "      <td>48.89</td>\n",
       "    </tr>\n",
       "    <tr>\n",
       "      <th>2</th>\n",
       "      <td>PG/SG</td>\n",
       "      <td>Donovan Mitchell (15235145)</td>\n",
       "      <td>Donovan Mitchell</td>\n",
       "      <td>15235145</td>\n",
       "      <td>PG/SG/G/UTIL</td>\n",
       "      <td>9700</td>\n",
       "      <td>DEN@UTA 08/30/2020 08:30PM ET</td>\n",
       "      <td>UTA</td>\n",
       "      <td>39.30</td>\n",
       "    </tr>\n",
       "    <tr>\n",
       "      <th>3</th>\n",
       "      <td>C</td>\n",
       "      <td>Nikola Jokic (15235149)</td>\n",
       "      <td>Nikola Jokic</td>\n",
       "      <td>15235149</td>\n",
       "      <td>C/UTIL</td>\n",
       "      <td>9500</td>\n",
       "      <td>DEN@UTA 08/30/2020 08:30PM ET</td>\n",
       "      <td>DEN</td>\n",
       "      <td>46.60</td>\n",
       "    </tr>\n",
       "    <tr>\n",
       "      <th>4</th>\n",
       "      <td>SF/PF</td>\n",
       "      <td>Jayson Tatum (15235151)</td>\n",
       "      <td>Jayson Tatum</td>\n",
       "      <td>15235151</td>\n",
       "      <td>SF/PF/F/UTIL</td>\n",
       "      <td>9200</td>\n",
       "      <td>BOS@TOR 08/30/2020 01:00PM ET</td>\n",
       "      <td>BOS</td>\n",
       "      <td>42.23</td>\n",
       "    </tr>\n",
       "  </tbody>\n",
       "</table>\n",
       "</div>"
      ],
      "text/plain": [
       "  Position                    Name + ID              Name        ID  \\\n",
       "0    PG/SF       Luka Doncic (15235137)       Luka Doncic  15235137   \n",
       "1       SF     Kawhi Leonard (15235142)     Kawhi Leonard  15235142   \n",
       "2    PG/SG  Donovan Mitchell (15235145)  Donovan Mitchell  15235145   \n",
       "3        C      Nikola Jokic (15235149)      Nikola Jokic  15235149   \n",
       "4    SF/PF      Jayson Tatum (15235151)      Jayson Tatum  15235151   \n",
       "\n",
       "  Roster Position  Salary                      Game Info TeamAbbrev  \\\n",
       "0  PG/SF/F/G/UTIL   11200  LAC@DAL 08/30/2020 03:30PM ET        DAL   \n",
       "1       SF/F/UTIL   10100  LAC@DAL 08/30/2020 03:30PM ET        LAC   \n",
       "2    PG/SG/G/UTIL    9700  DEN@UTA 08/30/2020 08:30PM ET        UTA   \n",
       "3          C/UTIL    9500  DEN@UTA 08/30/2020 08:30PM ET        DEN   \n",
       "4    SF/PF/F/UTIL    9200  BOS@TOR 08/30/2020 01:00PM ET        BOS   \n",
       "\n",
       "   AvgPointsPerGame  \n",
       "0             57.49  \n",
       "1             48.89  \n",
       "2             39.30  \n",
       "3             46.60  \n",
       "4             42.23  "
      ]
     },
     "execution_count": 3,
     "metadata": {},
     "output_type": "execute_result"
    }
   ],
   "source": [
    "# Load master DF with all players\n",
    "df = pd.read_csv(\"DKSalaries.csv\")\n",
    "df.head()"
   ]
  },
  {
   "cell_type": "code",
   "execution_count": 11,
   "metadata": {},
   "outputs": [
    {
     "data": {
      "image/png": "[encoded data removed]",
      "text/plain": [
       "<Figure size 864x576 with 1 Axes>"
      ]
     },
     "metadata": {
      "needs_background": "light"
     },
     "output_type": "display_data"
    }
   ],
   "source": [
    "# plot trend line and players to find outliers\n",
    "\n",
    "plt.rcParams['figure.figsize'] = [12, 8]\n",
    "fig, ax = plt.subplots()\n",
    "x = df[\"Salary\"]\n",
    "y = df[\"AvgPointsPerGame\"]\n",
    "ax.scatter(x, y)\n",
    "plt.xlabel(\"Salary\")\n",
    "plt.ylabel(\"Average fantasy PPG\")\n",
    "z = np.polyfit(x, y, 1)\n",
    "p = np.poly1d(z)\n",
    "plt.plot(x,p(x),\"r--\")\n",
    "\n",
    "opt_dict = {}\n",
    "\n",
    "plt.show()"
   ]
  },
  {
   "cell_type": "code",
   "execution_count": 12,
   "metadata": {},
   "outputs": [
    {
     "name": "stdout",
     "output_type": "stream",
     "text": [
      "Montrezl Harrell: 31.77@4400\n",
      "Daniel Theis: 23.43@4300\n",
      "Marc Gasol: 23.17@3900\n",
      "Reggie Jackson: 22.1@3800\n",
      "Enes Kanter: 20.37@3700\n",
      "Patrick Beverley: 23.14@3500\n",
      "Delon Wright: 18.97@3400\n",
      "Mason Plumlee: 18.56@3300\n",
      "JaMychal Green: 17.13@3200\n",
      "J.J. Barea: 15.66@3000\n"
     ]
    }
   ],
   "source": [
    "# Find outlier names based on requirements \n",
    "\n",
    "for i, txt in enumerate(df[\"Name\"]):\n",
    "    #if(df.iloc[i][\"AvgPointsPerGame\"] > 30 and df.iloc[i][\"Salary\"] < 6000):\n",
    "        #ax.annotate(txt, (df.iloc[i][\"Salary\"]+50, df.iloc[i][\"AvgPointsPerGame\"]+1))\n",
    "    if(df.iloc[i][\"AvgPointsPerGame\"] - p(df.iloc[i][\"Salary\"]) > 5):\n",
    "        ax.annotate(txt, (df.iloc[i][\"Salary\"], df.iloc[i][\"AvgPointsPerGame\"]+1))\n",
    "        opt_dict[df.iloc[i][\"Name\"]] = str(df.iloc[i][\"AvgPointsPerGame\"]) + \"@\" + str(df.iloc[i][\"Salary\"])\n",
    "        \n",
    "for key,val in enumerate(opt_dict):\n",
    "    print(val + \": \" + opt_dict[val])"
   ]
  },
  {
   "cell_type": "code",
   "execution_count": null,
   "metadata": {},
   "outputs": [],
   "source": []
  }
 ],
 "metadata": {
  "kernelspec": {
   "display_name": "Python 3",
   "language": "python",
   "name": "python3"
  },
  "language_info": {
   "codemirror_mode": {
    "name": "ipython",
    "version": 3
   },
   "file_extension": ".py",
   "mimetype": "text/x-python",
   "name": "python",
   "nbconvert_exporter": "python",
   "pygments_lexer": "ipython3",
   "version": "3.7.1"
  }
 },
 "nbformat": 4,
 "nbformat_minor": 2
}
