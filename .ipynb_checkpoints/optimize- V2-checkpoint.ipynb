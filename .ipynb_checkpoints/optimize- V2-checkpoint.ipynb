{
 "cells": [
  {
   "cell_type": "code",
   "execution_count": 1,
   "metadata": {},
   "outputs": [],
   "source": [
    "import pandas as pd\n",
    "import numpy as np\n",
    "from itertools import combinations "
   ]
  },
  {
   "cell_type": "code",
   "execution_count": 24,
   "metadata": {},
   "outputs": [],
   "source": [
    "# Master player DF\n",
    "df = pd.read_csv(\"DKSalaries.csv\")\n",
    "\n",
    "# Player DFs by position\n",
    "df_C = df[df[\"Position\"].str.contains(\"C\")]\n",
    "df_G = df[df[\"Position\"].str.contains(\"G\")]\n",
    "df_F = df[df[\"Position\"].str.contains(\"F\")]"
   ]
  },
  {
   "cell_type": "code",
   "execution_count": 25,
   "metadata": {},
   "outputs": [],
   "source": [
    "# Function to sum player Salaries in a lineup\n",
    "def playerCostSum(plist, p_dict):\n",
    "    sum = 0\n",
    "    for player in plist:\n",
    "        sum += p_dict[player][1]\n",
    "    return sum\n",
    "\n",
    "# Function to sum player PPG in a lineup\n",
    "def playerPointSum(plist, p_dict):\n",
    "    sum = 0\n",
    "    for player in plist:\n",
    "        sum+=p_dict[player][0]\n",
    "    return sum"
   ]
  },
  {
   "cell_type": "code",
   "execution_count": 26,
   "metadata": {},
   "outputs": [],
   "source": [
    "# Created master and positions dicts\n",
    "c_dict = dict(zip(df_C.ID,zip(df_C.AvgPointsPerGame,df_C.Salary)))\n",
    "g_dict = dict(zip(df_G.ID,zip(df_G.AvgPointsPerGame,df_G.Salary)))\n",
    "f_dict = dict(zip(df_F.ID,zip(df_F.AvgPointsPerGame,df_F.Salary)))\n",
    "player_dict = dict(zip(df.ID,zip(df.AvgPointsPerGame,df.Salary)))"
   ]
  },
  {
   "cell_type": "code",
   "execution_count": null,
   "metadata": {},
   "outputs": [],
   "source": [
    "# Optimization - Find max possible PPG while staying under salary cap\n",
    "# V2- Pick players iteratively based on positions\n",
    "max_val = -1\n",
    "max_cost = -1\n",
    "max_combo = []\n",
    "salary_cap = 50000\n",
    "count = 0\n",
    "\n",
    "for g_players in list(combinations(list(g_dict.keys()), 3)):\n",
    "    # Remove players already picked\n",
    "    aval_f_players = f_dict\n",
    "    for g in g_players:\n",
    "        aval_f_players.pop(g, aval_f_players)\n",
    "    for f_players in list(combinations(list(aval_f_players.keys()), 3)):\n",
    "        # Remove players already picked\n",
    "        aval_c_players = c_dict\n",
    "        for g in g_players:\n",
    "            aval_c_players.pop(g, aval_c_players)\n",
    "        for f in f_players:\n",
    "            aval_c_players.pop(f, aval_c_players)\n",
    "            \n",
    "        for c_players in list(combinations(list(c_dict.keys()), 1)):\n",
    "            players = f_players + g_players + c_players\n",
    "            players_cost = playerCostSum(players, player_dict)\n",
    "            players_points = playerPointSum(players, player_dict)\n",
    "            if (players_points > max_val and  players_cost < salary_cap):\n",
    "                max_val = players_points\n",
    "                max_cost = players_cost\n",
    "                max_combo = players\n",
    "print(max_val)\n",
    "print(max_cost)\n",
    "print(max_combo)\n",
    "for player in max_combo:\n",
    "    print(df.loc[df['ID'] == player][\"Name\"].values)"
   ]
  },
  {
   "cell_type": "code",
   "execution_count": null,
   "metadata": {},
   "outputs": [],
   "source": []
  }
 ],
 "metadata": {
  "kernelspec": {
   "display_name": "Python 3",
   "language": "python",
   "name": "python3"
  },
  "language_info": {
   "codemirror_mode": {
    "name": "ipython",
    "version": 3
   },
   "file_extension": ".py",
   "mimetype": "text/x-python",
   "name": "python",
   "nbconvert_exporter": "python",
   "pygments_lexer": "ipython3",
   "version": "3.7.1"
  }
 },
 "nbformat": 4,
 "nbformat_minor": 2
}
