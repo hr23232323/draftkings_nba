{
 "cells": [
  {
   "cell_type": "code",
   "execution_count": 1,
   "metadata": {},
   "outputs": [],
   "source": [
    "import pandas as pd\n",
    "import numpy as np\n",
    "from itertools import combinations "
   ]
  },
  {
   "cell_type": "code",
   "execution_count": 2,
   "metadata": {},
   "outputs": [],
   "source": [
    "# Dataframe with ALL available players\n",
    "df = pd.read_csv(\"DKSalaries.csv\")"
   ]
  },
  {
   "cell_type": "code",
   "execution_count": 3,
   "metadata": {},
   "outputs": [],
   "source": [
    "# Function to sum player Salaries in a lineup\n",
    "def playerCostSum(plist, p_dict):\n",
    "    sum = 0\n",
    "    for player in plist:\n",
    "        sum += p_dict[player][1]\n",
    "    return sum\n",
    "\n",
    "# Function to sum player PPG in a lineup\n",
    "def playerPointSum(plist, p_dict):\n",
    "    sum = 0\n",
    "    for player in plist:\n",
    "        sum+=p_dict[player][0]\n",
    "    return sum"
   ]
  },
  {
   "cell_type": "code",
   "execution_count": 5,
   "metadata": {},
   "outputs": [],
   "source": [
    "# Create dict with DF \n",
    "player_dict = dict(zip(df.ID,zip(df.AvgPointsPerGame,df.Salary)))"
   ]
  },
  {
   "cell_type": "code",
   "execution_count": 6,
   "metadata": {},
   "outputs": [
    {
     "name": "stdout",
     "output_type": "stream",
     "text": [
      "192.48000000000002\n",
      "34800\n",
      "(15235137, 15235166, 15235169, 15235264, 15235290)\n",
      "['Luka Doncic']\n",
      "['Kyle Lowry']\n",
      "['Rudy Gobert']\n",
      "['Montrezl Harrell']\n",
      "['Patrick Beverley']\n"
     ]
    }
   ],
   "source": [
    "# Optimize PPG while staying under salary constraint. \n",
    "# Note: Naive solution with no position consideration\n",
    "# NOTE: Search space is massive, keep num_players <= 5\n",
    "\n",
    "max_val = -1\n",
    "max_cost = -1\n",
    "max_combo = []\n",
    "salary_cap = 35000\n",
    "count = 0\n",
    "from itertools import combinations \n",
    "for players in list(combinations(list(player_dict.keys()), 5)):\n",
    "    players_cost = playerCostSum(players, player_dict)\n",
    "    players_points = playerPointSum(players, player_dict)\n",
    "    if (players_points > max_val and  players_cost < salary_cap):\n",
    "        max_val = players_points\n",
    "        max_cost = players_cost\n",
    "        max_combo = players\n",
    "print(max_val)\n",
    "print(max_cost)\n",
    "print(max_combo)\n",
    "for player in max_combo:\n",
    "    print(df.loc[df['ID'] == player][\"Name\"].values)"
   ]
  }
 ],
 "metadata": {
  "kernelspec": {
   "display_name": "Python 3",
   "language": "python",
   "name": "python3"
  },
  "language_info": {
   "codemirror_mode": {
    "name": "ipython",
    "version": 3
   },
   "file_extension": ".py",
   "mimetype": "text/x-python",
   "name": "python",
   "nbconvert_exporter": "python",
   "pygments_lexer": "ipython3",
   "version": "3.7.1"
  }
 },
 "nbformat": 4,
 "nbformat_minor": 2
}
